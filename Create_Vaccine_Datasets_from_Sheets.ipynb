{
  "nbformat": 4,
  "nbformat_minor": 0,
  "metadata": {
    "colab": {
      "name": "Create Vaccine Datasets from Sheets.ipynb",
      "provenance": [],
      "collapsed_sections": [],
      "authorship_tag": "ABX9TyM9bdXAL4pT5pw6SNhVXg3c",
      "include_colab_link": true
    },
    "kernelspec": {
      "name": "python3",
      "display_name": "Python 3"
    }
  },
  "cells": [
    {
      "cell_type": "markdown",
      "metadata": {
        "id": "view-in-github",
        "colab_type": "text"
      },
      "source": [
        "<a href=\"https://colab.research.google.com/github/salathegroup/multi-lang-vaccine-sentiment/blob/master/Create_Vaccine_Datasets_from_Sheets.ipynb\" target=\"_parent\"><img src=\"https://colab.research.google.com/assets/colab-badge.svg\" alt=\"Open In Colab\"/></a>"
      ]
    },
    {
      "cell_type": "markdown",
      "metadata": {
        "id": "slkqrCYvU24K",
        "colab_type": "text"
      },
      "source": [
        "#Create Vaccine Datasets from Sheets\n",
        "Creates the vaccine datasets both for the annotated and the unannotated stuff stored in the Google Sheets.\n",
        "\n",
        "In the end it copies the training datasets to the Google Cloud."
      ]
    },
    {
      "cell_type": "code",
      "metadata": {
        "id": "DZLs-U-tU0hm",
        "colab_type": "code",
        "colab": {
          "base_uri": "https://localhost:8080/",
          "height": 51
        },
        "cellView": "both",
        "outputId": "09c08cad-bafd-472e-e4c8-0c44a2b7af86"
      },
      "source": [
        "#@markdown ##Read Sheets\n",
        "\n",
        "import pandas as pd\n",
        "import numpy as np\n",
        "import gspread\n",
        "import sys, os\n",
        "from oauth2client.client import GoogleCredentials\n",
        "from google.colab import auth\n",
        "\n",
        "auth.authenticate_user()\n",
        "gc = gspread.authorize(GoogleCredentials.get_application_default())\n",
        "\n",
        "#Read the annotated data\n",
        "sh = gc.open('EPFL_vaccine_sentiment_3fold_agreed')\n",
        "worksheet = sh.worksheet(\"unique\")\n",
        "rows = worksheet.get_all_values()\n",
        "\n",
        "#Get it into pandas\n",
        "import pandas as pd\n",
        "annotated = pd.DataFrame.from_records(rows)\n",
        "annotated.columns = annotated.iloc[0]\n",
        "annotated = annotated.reindex(annotated.index.drop(0))\n",
        "annotated['a'] = \"a\"\n",
        "\n",
        "\n",
        "print(\"Successfully read the annotated data\")\n",
        "#Read the unannotated data\n",
        "sh = gc.open('EPFL unannotated tweets')\n",
        "worksheet = sh.worksheet(\"raw\")\n",
        "rows = worksheet.get_all_values()\n",
        "\n",
        "#Get it into pandas\n",
        "unannotated = pd.DataFrame.from_records(rows)\n",
        "unannotated.columns = unannotated.iloc[0]\n",
        "unannotated = unannotated.reindex(unannotated.index.drop(0))\n",
        "unannotated['a'] = \"a\"\n",
        "unannotated = unannotated[0:10000]\n",
        "\n",
        "print(\"Successfully read the unannotated data\")\n"
      ],
      "execution_count": 156,
      "outputs": [
        {
          "output_type": "stream",
          "text": [
            "Successfully read the annotated data\n",
            "Successfully read the unannotated data\n"
          ],
          "name": "stdout"
        }
      ]
    },
    {
      "cell_type": "code",
      "metadata": {
        "id": "aZegQq60XxCD",
        "colab_type": "code",
        "colab": {
          "base_uri": "https://localhost:8080/",
          "height": 833
        },
        "outputId": "d5f68063-35a9-428d-a97a-a202e59885c0"
      },
      "source": [
        "# #@markdown ##Create and Copy Data Files\n",
        "import warnings\n",
        "warnings.filterwarnings('ignore')\n",
        "\n",
        "#annotated data\n",
        "#Split into 60% train - 20% validation/development - 20% test\n",
        "train   = annotated.loc[annotated[\"group\"] == \"train\"]\n",
        "train_small = train.sample(n=1000, random_state=42)\n",
        "\n",
        "dev   = annotated.loc[annotated[\"group\"] == \"dev\"]\n",
        "test   = annotated.loc[annotated[\"group\"] == \"test\"]\n",
        "\n",
        "languages = [\"cb-annot-en\",\"cb-annot-en-fr\",\"cb-annot-en-de\",\"cb-annot-en-es\",\"cb-annot-en-pt\"]\n",
        "\n",
        "if not os.path.exists('annotated'):\n",
        "    os.makedirs('annotated')\n",
        "\n",
        "for lang in languages:\n",
        "  #Save annotated (large)\n",
        "  if not os.path.exists(lang):\n",
        "    os.makedirs(lang)\n",
        "  \n",
        "  with open('/content/'+lang+\"/train.tsv\", 'w') as f:\n",
        "    f.write(train.to_csv(columns=[\"id\", \"label\", \"a\", lang], header=False, index=False, sep='\\t'))\n",
        "\n",
        "  with open('/content/'+lang+\"/dev.tsv\", 'w') as f:\n",
        "    f.write(dev.to_csv(columns=[\"id\", \"label\", \"a\", lang], header=False, index=False, sep='\\t'))\n",
        "\n",
        "  with open('/content/'+lang+\"/test.tsv\", 'w') as f:\n",
        "    f.write(test.to_csv(columns=[\"id\", \"label\"], header=False, index=False, sep='\\t'))\n",
        "\n",
        "  with open('/content/'+lang+\"/annotated_test.tsv\", 'w') as f:\n",
        "    f.write(test.to_csv(columns=[\"id\", \"label\", \"a\", lang], header=False, index=False, sep='\\t'))\n",
        "\n",
        "  #Save annotated small\n",
        "  if not os.path.exists(lang+'-sm'):\n",
        "      os.makedirs(lang+'-sm')\n",
        "    \n",
        "  with open('/content/'+lang+'-sm/train.tsv', 'w') as f:\n",
        "    f.write(train_small.to_csv(columns=[\"id\", \"label\", \"a\", lang], header=False, index=False, sep='\\t'))\n",
        "\n",
        "  with open('/content/'+lang+'-sm/dev.tsv', 'w') as f:\n",
        "    f.write(dev.to_csv(columns=[\"id\", \"label\", \"a\", lang], header=False, index=False, sep='\\t'))\n",
        "\n",
        "  with open('/content/'+lang+'-sm/test.tsv', 'w') as f:\n",
        "    f.write(test.to_csv(columns=[\"id\", \"label\"], header=False, index=False, sep='\\t'))\n",
        "\n",
        "  with open('/content/'+lang+'-sm/annotated_test.tsv', 'w') as f:\n",
        "    f.write(test.to_csv(columns=[\"id\", \"label\", \"a\", lang], header=False, index=False, sep='\\t'))\n",
        "\n",
        "\n",
        "#unannotated data\n",
        "languages = [\"cb-en\",\"cb-en-fr\",\"cb-en-de\",\"cb-en-es\"]\n",
        "\n",
        "if not os.path.exists('cb-unannotated'):\n",
        "    os.makedirs('cb-unannotated')\n",
        "\n",
        "for lang in languages:  \n",
        "  with open('/content/cb-unannotated/'+lang+\".tsv\", 'w') as f:\n",
        "    f.write(unannotated.to_csv(columns=[\"id\", lang], header=False, index=False, sep='\\t'))\n",
        "\n",
        "print(\"Created the data files locally\")\n",
        "\n",
        "\n",
        "#Copy everything to the bucket\n",
        "!gsutil -m cp -r cb-*/ gs://perepublic/EPFL_multilang/data/\n",
        "\n",
        "print(\"Copied the data to the bucket\")\n"
      ],
      "execution_count": 157,
      "outputs": [
        {
          "output_type": "stream",
          "text": [
            "Created the data files locally\n",
            "Copying file://cb-annot-en/dev.tsv [Content-Type=text/tab-separated-values]...\n",
            "Copying file://cb-annot-en-de/test.tsv [Content-Type=text/tab-separated-values]...\n",
            "Copying file://cb-annot-en/test.tsv [Content-Type=text/tab-separated-values]...\n",
            "Copying file://cb-annot-en/annotated_test.tsv [Content-Type=text/tab-separated-values]...\n",
            "Copying file://cb-annot-en-de/annotated_test.tsv [Content-Type=text/tab-separated-values]...\n",
            "Copying file://cb-annot-en/train.tsv [Content-Type=text/tab-separated-values]...\n",
            "Copying file://cb-annot-en-de/train.tsv [Content-Type=text/tab-separated-values]...\n",
            "Copying file://cb-annot-en-de/dev.tsv [Content-Type=text/tab-separated-values]...\n",
            "Copying file://cb-annot-en-de-sm/dev.tsv [Content-Type=text/tab-separated-values]...\n",
            "Copying file://cb-annot-en-de-sm/test.tsv [Content-Type=text/tab-separated-values]...\n",
            "Copying file://cb-annot-en-de-sm/annotated_test.tsv [Content-Type=text/tab-separated-values]...\n",
            "Copying file://cb-annot-en-de-sm/train.tsv [Content-Type=text/tab-separated-values]...\n",
            "Copying file://cb-annot-en-es/dev.tsv [Content-Type=text/tab-separated-values]...\n",
            "Copying file://cb-annot-en-es/test.tsv [Content-Type=text/tab-separated-values]...\n",
            "Copying file://cb-annot-en-es/annotated_test.tsv [Content-Type=text/tab-separated-values]...\n",
            "Copying file://cb-annot-en-es/train.tsv [Content-Type=text/tab-separated-values]...\n",
            "Copying file://cb-annot-en-es-sm/dev.tsv [Content-Type=text/tab-separated-values]...\n",
            "Copying file://cb-annot-en-es-sm/test.tsv [Content-Type=text/tab-separated-values]...\n",
            "Copying file://cb-annot-en-es-sm/annotated_test.tsv [Content-Type=text/tab-separated-values]...\n",
            "Copying file://cb-annot-en-es-sm/train.tsv [Content-Type=text/tab-separated-values]...\n",
            "Copying file://cb-annot-en-fr/dev.tsv [Content-Type=text/tab-separated-values]...\n",
            "Copying file://cb-annot-en-fr/test.tsv [Content-Type=text/tab-separated-values]...\n",
            "Copying file://cb-annot-en-fr/annotated_test.tsv [Content-Type=text/tab-separated-values]...\n",
            "Copying file://cb-annot-en-fr/train.tsv [Content-Type=text/tab-separated-values]...\n",
            "Copying file://cb-annot-en-fr-sm/dev.tsv [Content-Type=text/tab-separated-values]...\n",
            "Copying file://cb-annot-en-fr-sm/annotated_test.tsv [Content-Type=text/tab-separated-values]...\n",
            "Copying file://cb-annot-en-fr-sm/test.tsv [Content-Type=text/tab-separated-values]...\n",
            "Copying file://cb-annot-en-fr-sm/train.tsv [Content-Type=text/tab-separated-values]...\n",
            "Copying file://cb-annot-en-pt/dev.tsv [Content-Type=text/tab-separated-values]...\n",
            "Copying file://cb-annot-en-pt/test.tsv [Content-Type=text/tab-separated-values]...\n",
            "Copying file://cb-annot-en-pt/annotated_test.tsv [Content-Type=text/tab-separated-values]...\n",
            "Copying file://cb-annot-en-pt/train.tsv [Content-Type=text/tab-separated-values]...\n",
            "Copying file://cb-annot-en-pt-sm/dev.tsv [Content-Type=text/tab-separated-values]...\n",
            "Copying file://cb-annot-en-pt-sm/test.tsv [Content-Type=text/tab-separated-values]...\n",
            "Copying file://cb-annot-en-pt-sm/annotated_test.tsv [Content-Type=text/tab-separated-values]...\n",
            "Copying file://cb-annot-en-pt-sm/train.tsv [Content-Type=text/tab-separated-values]...\n",
            "Copying file://cb-annot-en-sm/dev.tsv [Content-Type=text/tab-separated-values]...\n",
            "Copying file://cb-annot-en-sm/test.tsv [Content-Type=text/tab-separated-values]...\n",
            "Copying file://cb-annot-en-sm/annotated_test.tsv [Content-Type=text/tab-separated-values]...\n",
            "Copying file://cb-annot-en-sm/train.tsv [Content-Type=text/tab-separated-values]...\n",
            "Copying file://cb-unannotated/cb-en.tsv [Content-Type=text/tab-separated-values]...\n",
            "Copying file://cb-unannotated/cb-en-de.tsv [Content-Type=text/tab-separated-values]...\n",
            "Copying file://cb-unannotated/cb-en-fr.tsv [Content-Type=text/tab-separated-values]...\n",
            "Copying file://cb-unannotated/cb-en-es.tsv [Content-Type=text/tab-separated-values]...\n",
            "- [44/44 files][ 19.1 MiB/ 19.1 MiB] 100% Done                                  \n",
            "Operation completed over 44 objects/19.1 MiB.                                    \n",
            "Copied the data to the bucket\n"
          ],
          "name": "stdout"
        }
      ]
    }
  ]
}