{
  "nbformat": 4,
  "nbformat_minor": 0,
  "metadata": {
    "colab": {
      "name": "Colab_Multilingual_Experiments.ipynb",
      "provenance": [],
      "authorship_tag": "ABX9TyOGY6bFuCejyuHFOKuKX6ir",
      "include_colab_link": true
    },
    "kernelspec": {
      "name": "python3",
      "display_name": "Python 3"
    },
    "accelerator": "TPU"
  },
  "cells": [
    {
      "cell_type": "markdown",
      "metadata": {
        "id": "view-in-github",
        "colab_type": "text"
      },
      "source": [
        "<a href=\"https://colab.research.google.com/github/salathegroup/multi-lang-vaccine-sentiment/blob/master/Colab_Multilingual_Experiments.ipynb\" target=\"_parent\"><img src=\"https://colab.research.google.com/assets/colab-badge.svg\" alt=\"Open In Colab\"/></a>"
      ]
    },
    {
      "cell_type": "markdown",
      "metadata": {
        "id": "r06z1Qcw9u77",
        "colab_type": "text"
      },
      "source": [
        "\n",
        "# Initialize"
      ]
    },
    {
      "cell_type": "code",
      "metadata": {
        "id": "uwse1dLy2aNz",
        "colab_type": "code",
        "colab": {}
      },
      "source": [
        "import sys, os, json\n",
        "from google.colab import auth\n",
        "import tensorflow as tf\n",
        "\n",
        "#Copy the libraries from github\n",
        "if not os.path.exists('vac_utils.py'):\n",
        "  !wget https://raw.githubusercontent.com/salathegroup/multi-lang-vaccine-sentiment/master/vac_utils.py .\n",
        "\n",
        "if not os.path.exists('Multilingual_Experiments.py'):\n",
        "  !wget https://raw.githubusercontent.com/salathegroup/multi-lang-vaccine-sentiment/master/Multilingual_Experiments.py .\n",
        "\n",
        "import Multilingual_Experiments\n",
        "\n",
        "#Authenticate\n",
        "auth.authenticate_user()\n",
        "\n",
        "#Enable TPU\n",
        "assert 'COLAB_TPU_ADDR' in os.environ, 'ERROR: Not connected to a TPU runtime; please see the first cell in this notebook for instructions!'\n",
        "tpu_address = 'grpc://' + os.environ['COLAB_TPU_ADDR']\n",
        "\n",
        "with tf.Session(tpu_address) as session:\n",
        "  with open('/content/adc.json', 'r') as f:\n",
        "    auth_info = json.load(f)\n",
        "  tf.contrib.cloud.configure_gcs(session, credentials=auth_info)\n",
        "\n"
      ],
      "execution_count": 0,
      "outputs": []
    },
    {
      "cell_type": "markdown",
      "metadata": {
        "id": "BxZgj2fe9kQq",
        "colab_type": "text"
      },
      "source": [
        "\n",
        "# Run Experiments\n"
      ]
    },
    {
      "cell_type": "code",
      "metadata": {
        "id": "krW7JDwD9Z9J",
        "colab_type": "code",
        "colab": {}
      },
      "source": [
        "use_tpu = True\n",
        "username = \"pere\"\n",
        "num_train_steps = 300\n",
        "comment = \"No comment\"\n",
        "repeats = 1\n",
        "experiments = \"1\" #A string. Can be multiple experiments separated by comma\n",
        "\n",
        "\n",
        "for repeat in range(repeats):\n",
        "    Multilingual_Experiments.run_experiment(experiments, use_tpu, tpu_address, repeat+1, num_train_steps,username, comment)\n",
        "    print(\"*** Completed repeat #\" + str(repeat + 1))\n"
      ],
      "execution_count": 0,
      "outputs": []
    }
  ]
}