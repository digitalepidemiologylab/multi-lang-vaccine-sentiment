{
  "nbformat": 4,
  "nbformat_minor": 0,
  "metadata": {
    "colab": {
      "name": "Read json and Save as DataFrame.ipynb",
      "provenance": [],
      "authorship_tag": "ABX9TyPjDPDSVfym8rpSKlrUUF0s",
      "include_colab_link": true
    },
    "kernelspec": {
      "name": "python3",
      "display_name": "Python 3"
    }
  },
  "cells": [
    {
      "cell_type": "markdown",
      "metadata": {
        "id": "view-in-github",
        "colab_type": "text"
      },
      "source": [
        "<a href=\"https://colab.research.google.com/github/salathegroup/multi-lang-vaccine-sentiment/blob/master/Read_json_and_Save_as_DataFrame.ipynb\" target=\"_parent\"><img src=\"https://colab.research.google.com/assets/colab-badge.svg\" alt=\"Open In Colab\"/></a>"
      ]
    },
    {
      "cell_type": "markdown",
      "metadata": {
        "id": "DPOmAgXSUEEH",
        "colab_type": "text"
      },
      "source": [
        "First step in reading the json-file and saving it as a dataframe\n",
        "\n"
      ]
    },
    {
      "cell_type": "code",
      "metadata": {
        "id": "Ao-9Y_TNT7Ql",
        "colab_type": "code",
        "colab": {}
      },
      "source": [
        "mport json\n",
        "import pandas as pd\n",
        "\n",
        "#Read json\n",
        "with open('/Users/peregil/Downloads/dev.json') as f:\n",
        "  all = json.load(f)\n",
        "\n",
        "#Get the relevant data into a dictionary\n",
        "guid = all['guid']\n",
        "\n",
        "data = pd.DataFrame()\n",
        "\n",
        "for g in guid:\n",
        "    data = data.append(pd.Series([all['Experiment_id'],all['dataset'],g, guid[g][0]['prediction'],guid[g][1]['predictions'],guid[g][2]['probability'],guid[g][3]['probabilities'],guid[g][4]['y_true']]), ignore_index = True)\n",
        "\n",
        "data.columns = ['experiment_id','dataset','guid','prediction','predictions','propability','probabilities', 'y_true']\n",
        "\n"
      ],
      "execution_count": 0,
      "outputs": []
    }
  ]
}